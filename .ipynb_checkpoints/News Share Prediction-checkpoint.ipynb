{
 "cells": [
  {
   "cell_type": "code",
   "execution_count": 28,
   "id": "0ab1042b",
   "metadata": {},
   "outputs": [],
   "source": [
    "import pandas as pd\n",
    "# pd.set_option('display.max_rows',None)\n",
    "# pd.set_option('display.max_columns',None)\n",
    "import matplotlib.pyplot as plt"
   ]
  },
  {
   "cell_type": "code",
   "execution_count": 19,
   "id": "900ab9ea",
   "metadata": {
    "scrolled": true
   },
   "outputs": [
    {
     "data": {
      "text/html": [
       "<div>\n",
       "<style scoped>\n",
       "    .dataframe tbody tr th:only-of-type {\n",
       "        vertical-align: middle;\n",
       "    }\n",
       "\n",
       "    .dataframe tbody tr th {\n",
       "        vertical-align: top;\n",
       "    }\n",
       "\n",
       "    .dataframe thead th {\n",
       "        text-align: right;\n",
       "    }\n",
       "</style>\n",
       "<table border=\"1\" class=\"dataframe\">\n",
       "  <thead>\n",
       "    <tr style=\"text-align: right;\">\n",
       "      <th></th>\n",
       "      <th>article_id</th>\n",
       "      <th>title</th>\n",
       "      <th>text</th>\n",
       "      <th>published_date</th>\n",
       "      <th>unique_tokens_rate</th>\n",
       "      <th>num_hrefs</th>\n",
       "      <th>num_imgs</th>\n",
       "      <th>num_videos</th>\n",
       "      <th>average_token_length</th>\n",
       "      <th>num_keywords</th>\n",
       "      <th>data_channel</th>\n",
       "      <th>min_avg_key</th>\n",
       "      <th>max_avg_key</th>\n",
       "      <th>avg_avg_key</th>\n",
       "      <th>href_avg_shares</th>\n",
       "      <th>global_subjectivity</th>\n",
       "      <th>global_sentiment_polarity</th>\n",
       "      <th>global_rate_positive_words</th>\n",
       "      <th>global_rate_negative_words</th>\n",
       "      <th>title_subjectivity</th>\n",
       "      <th>title_sentiment_polarity</th>\n",
       "      <th>shares</th>\n",
       "    </tr>\n",
       "  </thead>\n",
       "  <tbody>\n",
       "    <tr>\n",
       "      <th>0</th>\n",
       "      <td>7014291</td>\n",
       "      <td>It's Time for a YouTube Competitor</td>\n",
       "      <td>It was reported last week that Yahoo is gettin...</td>\n",
       "      <td>2014-03-31</td>\n",
       "      <td>0.640816</td>\n",
       "      <td>5</td>\n",
       "      <td>3</td>\n",
       "      <td>1</td>\n",
       "      <td>4.579592</td>\n",
       "      <td>5</td>\n",
       "      <td>Business</td>\n",
       "      <td>1459.500</td>\n",
       "      <td>4817.692</td>\n",
       "      <td>3370.415</td>\n",
       "      <td>1833.333</td>\n",
       "      <td>0.403762</td>\n",
       "      <td>0.038762</td>\n",
       "      <td>0.036735</td>\n",
       "      <td>0.024490</td>\n",
       "      <td>0.25</td>\n",
       "      <td>0.25</td>\n",
       "      <td>1600</td>\n",
       "    </tr>\n",
       "    <tr>\n",
       "      <th>1</th>\n",
       "      <td>7014327</td>\n",
       "      <td>The Ultimate Roundup of 2014's Biggest April F...</td>\n",
       "      <td>April Fools' marks the day when pranking goes ...</td>\n",
       "      <td>2014-04-01</td>\n",
       "      <td>0.549618</td>\n",
       "      <td>4</td>\n",
       "      <td>1</td>\n",
       "      <td>0</td>\n",
       "      <td>4.636704</td>\n",
       "      <td>7</td>\n",
       "      <td>Tech</td>\n",
       "      <td>0.000</td>\n",
       "      <td>3581.094</td>\n",
       "      <td>2556.367</td>\n",
       "      <td>8500.000</td>\n",
       "      <td>0.410707</td>\n",
       "      <td>0.180934</td>\n",
       "      <td>0.044944</td>\n",
       "      <td>0.003745</td>\n",
       "      <td>0.00</td>\n",
       "      <td>0.00</td>\n",
       "      <td>1500</td>\n",
       "    </tr>\n",
       "    <tr>\n",
       "      <th>2</th>\n",
       "      <td>7014304</td>\n",
       "      <td>A Selfie and One Garish Jacket: How the Red So...</td>\n",
       "      <td>The 2013 World Series champion Boston Red Sox ...</td>\n",
       "      <td>2014-04-01</td>\n",
       "      <td>0.577236</td>\n",
       "      <td>8</td>\n",
       "      <td>1</td>\n",
       "      <td>0</td>\n",
       "      <td>4.627451</td>\n",
       "      <td>7</td>\n",
       "      <td>Tech</td>\n",
       "      <td>2270.889</td>\n",
       "      <td>3852.800</td>\n",
       "      <td>3018.167</td>\n",
       "      <td>2076.333</td>\n",
       "      <td>0.397545</td>\n",
       "      <td>0.044864</td>\n",
       "      <td>0.035294</td>\n",
       "      <td>0.019608</td>\n",
       "      <td>0.00</td>\n",
       "      <td>0.00</td>\n",
       "      <td>1400</td>\n",
       "    </tr>\n",
       "    <tr>\n",
       "      <th>3</th>\n",
       "      <td>7031995</td>\n",
       "      <td>African Telecom Proposes More Diverse Emoticons</td>\n",
       "      <td>Less than a week after Apple pledged to make i...</td>\n",
       "      <td>2014-04-01</td>\n",
       "      <td>0.525896</td>\n",
       "      <td>4</td>\n",
       "      <td>1</td>\n",
       "      <td>0</td>\n",
       "      <td>5.083665</td>\n",
       "      <td>9</td>\n",
       "      <td>Tech</td>\n",
       "      <td>0.000</td>\n",
       "      <td>3581.094</td>\n",
       "      <td>1871.403</td>\n",
       "      <td>2200.000</td>\n",
       "      <td>0.491578</td>\n",
       "      <td>0.157620</td>\n",
       "      <td>0.047809</td>\n",
       "      <td>0.011952</td>\n",
       "      <td>0.00</td>\n",
       "      <td>0.00</td>\n",
       "      <td>1300</td>\n",
       "    </tr>\n",
       "    <tr>\n",
       "      <th>4</th>\n",
       "      <td>6541359</td>\n",
       "      <td>Google to Launch Improved Android Camera App, ...</td>\n",
       "      <td>Android users may soon see a series of new fea...</td>\n",
       "      <td>2014-04-01</td>\n",
       "      <td>0.588889</td>\n",
       "      <td>6</td>\n",
       "      <td>9</td>\n",
       "      <td>0</td>\n",
       "      <td>4.336022</td>\n",
       "      <td>7</td>\n",
       "      <td>00000</td>\n",
       "      <td>3581.094</td>\n",
       "      <td>8453.451</td>\n",
       "      <td>5155.323</td>\n",
       "      <td>805.000</td>\n",
       "      <td>0.628535</td>\n",
       "      <td>0.078497</td>\n",
       "      <td>0.053763</td>\n",
       "      <td>0.034946</td>\n",
       "      <td>0.00</td>\n",
       "      <td>0.00</td>\n",
       "      <td>3000</td>\n",
       "    </tr>\n",
       "  </tbody>\n",
       "</table>\n",
       "</div>"
      ],
      "text/plain": [
       "   article_id                                              title  \\\n",
       "0     7014291                 It's Time for a YouTube Competitor   \n",
       "1     7014327  The Ultimate Roundup of 2014's Biggest April F...   \n",
       "2     7014304  A Selfie and One Garish Jacket: How the Red So...   \n",
       "3     7031995    African Telecom Proposes More Diverse Emoticons   \n",
       "4     6541359  Google to Launch Improved Android Camera App, ...   \n",
       "\n",
       "                                                text published_date  \\\n",
       "0  It was reported last week that Yahoo is gettin...     2014-03-31   \n",
       "1  April Fools' marks the day when pranking goes ...     2014-04-01   \n",
       "2  The 2013 World Series champion Boston Red Sox ...     2014-04-01   \n",
       "3  Less than a week after Apple pledged to make i...     2014-04-01   \n",
       "4  Android users may soon see a series of new fea...     2014-04-01   \n",
       "\n",
       "   unique_tokens_rate  num_hrefs  num_imgs  num_videos  average_token_length  \\\n",
       "0            0.640816          5         3           1              4.579592   \n",
       "1            0.549618          4         1           0              4.636704   \n",
       "2            0.577236          8         1           0              4.627451   \n",
       "3            0.525896          4         1           0              5.083665   \n",
       "4            0.588889          6         9           0              4.336022   \n",
       "\n",
       "   num_keywords data_channel  min_avg_key  max_avg_key  avg_avg_key  \\\n",
       "0             5     Business     1459.500     4817.692     3370.415   \n",
       "1             7         Tech        0.000     3581.094     2556.367   \n",
       "2             7         Tech     2270.889     3852.800     3018.167   \n",
       "3             9         Tech        0.000     3581.094     1871.403   \n",
       "4             7        00000     3581.094     8453.451     5155.323   \n",
       "\n",
       "   href_avg_shares  global_subjectivity  global_sentiment_polarity  \\\n",
       "0         1833.333             0.403762                   0.038762   \n",
       "1         8500.000             0.410707                   0.180934   \n",
       "2         2076.333             0.397545                   0.044864   \n",
       "3         2200.000             0.491578                   0.157620   \n",
       "4          805.000             0.628535                   0.078497   \n",
       "\n",
       "   global_rate_positive_words  global_rate_negative_words  title_subjectivity  \\\n",
       "0                    0.036735                    0.024490                0.25   \n",
       "1                    0.044944                    0.003745                0.00   \n",
       "2                    0.035294                    0.019608                0.00   \n",
       "3                    0.047809                    0.011952                0.00   \n",
       "4                    0.053763                    0.034946                0.00   \n",
       "\n",
       "   title_sentiment_polarity  shares  \n",
       "0                      0.25    1600  \n",
       "1                      0.00    1500  \n",
       "2                      0.00    1400  \n",
       "3                      0.00    1300  \n",
       "4                      0.00    3000  "
      ]
     },
     "execution_count": 19,
     "metadata": {},
     "output_type": "execute_result"
    }
   ],
   "source": [
    "df = pd.read_excel('data/news_share_data.xlsx')\n",
    "df.head()"
   ]
  },
  {
   "cell_type": "code",
   "execution_count": 11,
   "id": "9edcd7ae",
   "metadata": {},
   "outputs": [
    {
     "data": {
      "text/plain": [
       "(1003, 22)"
      ]
     },
     "execution_count": 11,
     "metadata": {},
     "output_type": "execute_result"
    }
   ],
   "source": [
    "df.shape"
   ]
  },
  {
   "cell_type": "code",
   "execution_count": 7,
   "id": "39fa865e",
   "metadata": {},
   "outputs": [
    {
     "data": {
      "text/plain": [
       "Index(['article_id', 'title', 'text', 'published_date', 'unique_tokens_rate',\n",
       "       'num_hrefs', 'num_imgs', 'num_videos', 'average_token_length',\n",
       "       'num_keywords', 'data_channel', 'min_avg_key', 'max_avg_key',\n",
       "       'avg_avg_key', 'href_avg_shares', 'global_subjectivity',\n",
       "       'global_sentiment_polarity', 'global_rate_positive_words',\n",
       "       'global_rate_negative_words', 'title_subjectivity',\n",
       "       'title_sentiment_polarity', 'shares'],\n",
       "      dtype='object')"
      ]
     },
     "execution_count": 7,
     "metadata": {},
     "output_type": "execute_result"
    }
   ],
   "source": [
    "df.columns"
   ]
  },
  {
   "cell_type": "code",
   "execution_count": 9,
   "id": "58b093c9",
   "metadata": {},
   "outputs": [
    {
     "name": "stdout",
     "output_type": "stream",
     "text": [
      "<class 'pandas.core.frame.DataFrame'>\n",
      "RangeIndex: 1003 entries, 0 to 1002\n",
      "Data columns (total 22 columns):\n",
      " #   Column                      Non-Null Count  Dtype         \n",
      "---  ------                      --------------  -----         \n",
      " 0   article_id                  1003 non-null   int64         \n",
      " 1   title                       1003 non-null   object        \n",
      " 2   text                        1003 non-null   object        \n",
      " 3   published_date              1003 non-null   datetime64[ns]\n",
      " 4   unique_tokens_rate          1003 non-null   float64       \n",
      " 5   num_hrefs                   1003 non-null   int64         \n",
      " 6   num_imgs                    1003 non-null   int64         \n",
      " 7   num_videos                  1003 non-null   int64         \n",
      " 8   average_token_length        1003 non-null   float64       \n",
      " 9   num_keywords                1003 non-null   int64         \n",
      " 10  data_channel                1003 non-null   object        \n",
      " 11  min_avg_key                 1003 non-null   float64       \n",
      " 12  max_avg_key                 1003 non-null   float64       \n",
      " 13  avg_avg_key                 1003 non-null   float64       \n",
      " 14  href_avg_shares             1003 non-null   float64       \n",
      " 15  global_subjectivity         1003 non-null   float64       \n",
      " 16  global_sentiment_polarity   1003 non-null   float64       \n",
      " 17  global_rate_positive_words  1003 non-null   float64       \n",
      " 18  global_rate_negative_words  1003 non-null   float64       \n",
      " 19  title_subjectivity          1003 non-null   float64       \n",
      " 20  title_sentiment_polarity    1003 non-null   float64       \n",
      " 21  shares                      1003 non-null   int64         \n",
      "dtypes: datetime64[ns](1), float64(12), int64(6), object(3)\n",
      "memory usage: 172.5+ KB\n"
     ]
    }
   ],
   "source": [
    "df.info()"
   ]
  },
  {
   "cell_type": "code",
   "execution_count": 13,
   "id": "1f4d9bb3",
   "metadata": {
    "scrolled": false
   },
   "outputs": [
    {
     "data": {
      "text/html": [
       "<div>\n",
       "<style scoped>\n",
       "    .dataframe tbody tr th:only-of-type {\n",
       "        vertical-align: middle;\n",
       "    }\n",
       "\n",
       "    .dataframe tbody tr th {\n",
       "        vertical-align: top;\n",
       "    }\n",
       "\n",
       "    .dataframe thead th {\n",
       "        text-align: right;\n",
       "    }\n",
       "</style>\n",
       "<table border=\"1\" class=\"dataframe\">\n",
       "  <thead>\n",
       "    <tr style=\"text-align: right;\">\n",
       "      <th></th>\n",
       "      <th>article_id</th>\n",
       "      <th>unique_tokens_rate</th>\n",
       "      <th>num_hrefs</th>\n",
       "      <th>num_imgs</th>\n",
       "      <th>num_videos</th>\n",
       "      <th>average_token_length</th>\n",
       "      <th>num_keywords</th>\n",
       "      <th>min_avg_key</th>\n",
       "      <th>max_avg_key</th>\n",
       "      <th>avg_avg_key</th>\n",
       "      <th>href_avg_shares</th>\n",
       "      <th>global_subjectivity</th>\n",
       "      <th>global_sentiment_polarity</th>\n",
       "      <th>global_rate_positive_words</th>\n",
       "      <th>global_rate_negative_words</th>\n",
       "      <th>title_subjectivity</th>\n",
       "      <th>title_sentiment_polarity</th>\n",
       "      <th>shares</th>\n",
       "    </tr>\n",
       "  </thead>\n",
       "  <tbody>\n",
       "    <tr>\n",
       "      <th>count</th>\n",
       "      <td>1.003000e+03</td>\n",
       "      <td>1003.000000</td>\n",
       "      <td>1003.000000</td>\n",
       "      <td>1003.000000</td>\n",
       "      <td>1003.000000</td>\n",
       "      <td>1003.000000</td>\n",
       "      <td>1003.000000</td>\n",
       "      <td>1003.000000</td>\n",
       "      <td>1003.000000</td>\n",
       "      <td>1003.000000</td>\n",
       "      <td>1003.000000</td>\n",
       "      <td>1003.000000</td>\n",
       "      <td>1003.000000</td>\n",
       "      <td>1003.000000</td>\n",
       "      <td>1003.000000</td>\n",
       "      <td>1003.000000</td>\n",
       "      <td>1003.000000</td>\n",
       "      <td>1003.000000</td>\n",
       "    </tr>\n",
       "    <tr>\n",
       "      <th>mean</th>\n",
       "      <td>6.915159e+06</td>\n",
       "      <td>0.526890</td>\n",
       "      <td>11.720837</td>\n",
       "      <td>5.188435</td>\n",
       "      <td>1.215354</td>\n",
       "      <td>4.603757</td>\n",
       "      <td>7.206381</td>\n",
       "      <td>1131.437972</td>\n",
       "      <td>6463.258234</td>\n",
       "      <td>3359.478830</td>\n",
       "      <td>13518.302031</td>\n",
       "      <td>0.446724</td>\n",
       "      <td>0.106187</td>\n",
       "      <td>0.038169</td>\n",
       "      <td>0.017772</td>\n",
       "      <td>0.292537</td>\n",
       "      <td>0.057536</td>\n",
       "      <td>4247.304088</td>\n",
       "    </tr>\n",
       "    <tr>\n",
       "      <th>std</th>\n",
       "      <td>4.823885e+05</td>\n",
       "      <td>0.118793</td>\n",
       "      <td>15.181597</td>\n",
       "      <td>8.495002</td>\n",
       "      <td>4.079730</td>\n",
       "      <td>0.701756</td>\n",
       "      <td>1.856713</td>\n",
       "      <td>1181.134621</td>\n",
       "      <td>7455.421154</td>\n",
       "      <td>1467.674637</td>\n",
       "      <td>51499.106509</td>\n",
       "      <td>0.109167</td>\n",
       "      <td>0.092496</td>\n",
       "      <td>0.015673</td>\n",
       "      <td>0.010557</td>\n",
       "      <td>0.325227</td>\n",
       "      <td>0.266609</td>\n",
       "      <td>22609.634435</td>\n",
       "    </tr>\n",
       "    <tr>\n",
       "      <th>min</th>\n",
       "      <td>2.195051e+06</td>\n",
       "      <td>0.000000</td>\n",
       "      <td>0.000000</td>\n",
       "      <td>0.000000</td>\n",
       "      <td>0.000000</td>\n",
       "      <td>0.000000</td>\n",
       "      <td>2.000000</td>\n",
       "      <td>0.000000</td>\n",
       "      <td>3568.870000</td>\n",
       "      <td>1360.101000</td>\n",
       "      <td>0.000000</td>\n",
       "      <td>0.000000</td>\n",
       "      <td>-0.300000</td>\n",
       "      <td>0.000000</td>\n",
       "      <td>0.000000</td>\n",
       "      <td>0.000000</td>\n",
       "      <td>-1.000000</td>\n",
       "      <td>58.000000</td>\n",
       "    </tr>\n",
       "    <tr>\n",
       "      <th>25%</th>\n",
       "      <td>7.006102e+06</td>\n",
       "      <td>0.466751</td>\n",
       "      <td>4.000000</td>\n",
       "      <td>1.000000</td>\n",
       "      <td>0.000000</td>\n",
       "      <td>4.490363</td>\n",
       "      <td>6.000000</td>\n",
       "      <td>0.000000</td>\n",
       "      <td>3613.040000</td>\n",
       "      <td>2533.297000</td>\n",
       "      <td>1300.000000</td>\n",
       "      <td>0.395575</td>\n",
       "      <td>0.051911</td>\n",
       "      <td>0.028655</td>\n",
       "      <td>0.011224</td>\n",
       "      <td>0.000000</td>\n",
       "      <td>0.000000</td>\n",
       "      <td>1000.000000</td>\n",
       "    </tr>\n",
       "    <tr>\n",
       "      <th>50%</th>\n",
       "      <td>7.013065e+06</td>\n",
       "      <td>0.533118</td>\n",
       "      <td>8.000000</td>\n",
       "      <td>2.000000</td>\n",
       "      <td>0.000000</td>\n",
       "      <td>4.685484</td>\n",
       "      <td>7.000000</td>\n",
       "      <td>984.066700</td>\n",
       "      <td>4635.807000</td>\n",
       "      <td>3004.755000</td>\n",
       "      <td>2766.667000</td>\n",
       "      <td>0.455990</td>\n",
       "      <td>0.102579</td>\n",
       "      <td>0.037325</td>\n",
       "      <td>0.016266</td>\n",
       "      <td>0.200000</td>\n",
       "      <td>0.000000</td>\n",
       "      <td>1600.000000</td>\n",
       "    </tr>\n",
       "    <tr>\n",
       "      <th>75%</th>\n",
       "      <td>7.027570e+06</td>\n",
       "      <td>0.596615</td>\n",
       "      <td>14.000000</td>\n",
       "      <td>7.000000</td>\n",
       "      <td>1.000000</td>\n",
       "      <td>4.855388</td>\n",
       "      <td>9.000000</td>\n",
       "      <td>2116.714500</td>\n",
       "      <td>6561.910000</td>\n",
       "      <td>3809.005000</td>\n",
       "      <td>7341.000000</td>\n",
       "      <td>0.509508</td>\n",
       "      <td>0.163183</td>\n",
       "      <td>0.046922</td>\n",
       "      <td>0.022597</td>\n",
       "      <td>0.500000</td>\n",
       "      <td>0.150000</td>\n",
       "      <td>3100.000000</td>\n",
       "    </tr>\n",
       "    <tr>\n",
       "      <th>max</th>\n",
       "      <td>7.041291e+06</td>\n",
       "      <td>0.867925</td>\n",
       "      <td>162.000000</td>\n",
       "      <td>84.000000</td>\n",
       "      <td>51.000000</td>\n",
       "      <td>7.218430</td>\n",
       "      <td>10.000000</td>\n",
       "      <td>3613.040000</td>\n",
       "      <td>102200.000000</td>\n",
       "      <td>17604.270000</td>\n",
       "      <td>663600.000000</td>\n",
       "      <td>0.875000</td>\n",
       "      <td>0.489623</td>\n",
       "      <td>0.120805</td>\n",
       "      <td>0.103030</td>\n",
       "      <td>1.000000</td>\n",
       "      <td>1.000000</td>\n",
       "      <td>663600.000000</td>\n",
       "    </tr>\n",
       "  </tbody>\n",
       "</table>\n",
       "</div>"
      ],
      "text/plain": [
       "         article_id  unique_tokens_rate    num_hrefs     num_imgs  \\\n",
       "count  1.003000e+03         1003.000000  1003.000000  1003.000000   \n",
       "mean   6.915159e+06            0.526890    11.720837     5.188435   \n",
       "std    4.823885e+05            0.118793    15.181597     8.495002   \n",
       "min    2.195051e+06            0.000000     0.000000     0.000000   \n",
       "25%    7.006102e+06            0.466751     4.000000     1.000000   \n",
       "50%    7.013065e+06            0.533118     8.000000     2.000000   \n",
       "75%    7.027570e+06            0.596615    14.000000     7.000000   \n",
       "max    7.041291e+06            0.867925   162.000000    84.000000   \n",
       "\n",
       "        num_videos  average_token_length  num_keywords  min_avg_key  \\\n",
       "count  1003.000000           1003.000000   1003.000000  1003.000000   \n",
       "mean      1.215354              4.603757      7.206381  1131.437972   \n",
       "std       4.079730              0.701756      1.856713  1181.134621   \n",
       "min       0.000000              0.000000      2.000000     0.000000   \n",
       "25%       0.000000              4.490363      6.000000     0.000000   \n",
       "50%       0.000000              4.685484      7.000000   984.066700   \n",
       "75%       1.000000              4.855388      9.000000  2116.714500   \n",
       "max      51.000000              7.218430     10.000000  3613.040000   \n",
       "\n",
       "         max_avg_key   avg_avg_key  href_avg_shares  global_subjectivity  \\\n",
       "count    1003.000000   1003.000000      1003.000000          1003.000000   \n",
       "mean     6463.258234   3359.478830     13518.302031             0.446724   \n",
       "std      7455.421154   1467.674637     51499.106509             0.109167   \n",
       "min      3568.870000   1360.101000         0.000000             0.000000   \n",
       "25%      3613.040000   2533.297000      1300.000000             0.395575   \n",
       "50%      4635.807000   3004.755000      2766.667000             0.455990   \n",
       "75%      6561.910000   3809.005000      7341.000000             0.509508   \n",
       "max    102200.000000  17604.270000    663600.000000             0.875000   \n",
       "\n",
       "       global_sentiment_polarity  global_rate_positive_words  \\\n",
       "count                1003.000000                 1003.000000   \n",
       "mean                    0.106187                    0.038169   \n",
       "std                     0.092496                    0.015673   \n",
       "min                    -0.300000                    0.000000   \n",
       "25%                     0.051911                    0.028655   \n",
       "50%                     0.102579                    0.037325   \n",
       "75%                     0.163183                    0.046922   \n",
       "max                     0.489623                    0.120805   \n",
       "\n",
       "       global_rate_negative_words  title_subjectivity  \\\n",
       "count                 1003.000000         1003.000000   \n",
       "mean                     0.017772            0.292537   \n",
       "std                      0.010557            0.325227   \n",
       "min                      0.000000            0.000000   \n",
       "25%                      0.011224            0.000000   \n",
       "50%                      0.016266            0.200000   \n",
       "75%                      0.022597            0.500000   \n",
       "max                      0.103030            1.000000   \n",
       "\n",
       "       title_sentiment_polarity         shares  \n",
       "count               1003.000000    1003.000000  \n",
       "mean                   0.057536    4247.304088  \n",
       "std                    0.266609   22609.634435  \n",
       "min                   -1.000000      58.000000  \n",
       "25%                    0.000000    1000.000000  \n",
       "50%                    0.000000    1600.000000  \n",
       "75%                    0.150000    3100.000000  \n",
       "max                    1.000000  663600.000000  "
      ]
     },
     "execution_count": 13,
     "metadata": {},
     "output_type": "execute_result"
    }
   ],
   "source": [
    "df.describe()"
   ]
  },
  {
   "cell_type": "code",
   "execution_count": 26,
   "id": "2e733d4e",
   "metadata": {},
   "outputs": [
    {
     "data": {
      "text/plain": [
       "(945,)"
      ]
     },
     "execution_count": 26,
     "metadata": {},
     "output_type": "execute_result"
    }
   ],
   "source": [
    "df['unique_tokens_rate'].value_counts().shape"
   ]
  },
  {
   "cell_type": "markdown",
   "id": "5df298ed",
   "metadata": {},
   "source": [
    "## num_hrefs"
   ]
  },
  {
   "cell_type": "code",
   "execution_count": 27,
   "id": "529d7f2e",
   "metadata": {},
   "outputs": [
    {
     "data": {
      "text/plain": [
       "(63,)"
      ]
     },
     "execution_count": 27,
     "metadata": {},
     "output_type": "execute_result"
    }
   ],
   "source": [
    "df['num_hrefs'].value_counts().shape"
   ]
  },
  {
   "cell_type": "code",
   "execution_count": 24,
   "id": "43c7c69c",
   "metadata": {
    "collapsed": true
   },
   "outputs": [
    {
     "data": {
      "text/plain": [
       "4      101\n",
       "5       78\n",
       "6       78\n",
       "7       64\n",
       "3       61\n",
       "8       59\n",
       "9       59\n",
       "2       52\n",
       "10      47\n",
       "11      41\n",
       "12      35\n",
       "13      35\n",
       "15      29\n",
       "17      28\n",
       "14      25\n",
       "0       21\n",
       "1       20\n",
       "18      16\n",
       "16      13\n",
       "20      13\n",
       "21      11\n",
       "22       9\n",
       "30       8\n",
       "19       8\n",
       "24       7\n",
       "25       6\n",
       "27       6\n",
       "33       5\n",
       "34       5\n",
       "26       5\n",
       "23       5\n",
       "35       4\n",
       "39       3\n",
       "32       3\n",
       "29       3\n",
       "31       3\n",
       "42       2\n",
       "45       2\n",
       "53       2\n",
       "40       2\n",
       "38       2\n",
       "28       2\n",
       "47       2\n",
       "43       2\n",
       "44       2\n",
       "62       2\n",
       "41       1\n",
       "69       1\n",
       "162      1\n",
       "58       1\n",
       "158      1\n",
       "153      1\n",
       "148      1\n",
       "119      1\n",
       "93       1\n",
       "122      1\n",
       "94       1\n",
       "51       1\n",
       "48       1\n",
       "49       1\n",
       "64       1\n",
       "46       1\n",
       "150      1\n",
       "Name: num_hrefs, dtype: int64"
      ]
     },
     "execution_count": 24,
     "metadata": {},
     "output_type": "execute_result"
    }
   ],
   "source": [
    "df['num_hrefs'].value_counts()"
   ]
  },
  {
   "cell_type": "code",
   "execution_count": 29,
   "id": "bf6999b4",
   "metadata": {
    "collapsed": true
   },
   "outputs": [
    {
     "data": {
      "image/png": "[encoded data removed]",
      "text/plain": [
       "<Figure size 432x288 with 1 Axes>"
      ]
     },
     "metadata": {
      "needs_background": "light"
     },
     "output_type": "display_data"
    }
   ],
   "source": [
    "value_counts = df['num_hrefs'].value_counts()\n",
    "\n",
    "# Create a scatter plot\n",
    "plt.scatter(value_counts.index, value_counts.values)\n",
    "\n",
    "# Add labels and title\n",
    "plt.xlabel('num_hrefs')\n",
    "plt.ylabel('Count')\n",
    "plt.title('Scatter Plot of num_hrefs Value Counts')\n",
    "\n",
    "# Show the plot\n",
    "plt.show()"
   ]
  },
  {
   "cell_type": "code",
   "execution_count": 31,
   "id": "769ccfb9",
   "metadata": {
    "collapsed": true
   },
   "outputs": [
    {
     "data": {
      "image/png": "[encoded data removed]",
      "text/plain": [
       "<Figure size 432x288 with 1 Axes>"
      ]
     },
     "metadata": {
      "needs_background": "light"
     },
     "output_type": "display_data"
    }
   ],
   "source": [
    "plt.boxplot(value_counts.index)\n",
    "plt.title('Box Plot of num_hrefs')\n",
    "plt.xlabel('num_hrefs')\n",
    "plt.show()"
   ]
  },
  {
   "cell_type": "code",
   "execution_count": 33,
   "id": "d096a2ef",
   "metadata": {},
   "outputs": [
    {
     "name": "stdout",
     "output_type": "stream",
     "text": [
      "Potential outliers: Int64Index([162, 158, 153, 148, 119, 122, 150], dtype='int64')\n"
     ]
    }
   ],
   "source": [
    "import numpy as np\n",
    "\n",
    "# Convert the index to a NumPy array\n",
    "num_hrefs_array = value_counts.index.to_numpy()\n",
    "\n",
    "# Calculate quartiles and IQR\n",
    "Q1 = np.percentile(num_hrefs_array, 25)\n",
    "Q3 = np.percentile(num_hrefs_array, 75)\n",
    "IQR = Q3 - Q1\n",
    "\n",
    "# Define lower and upper bounds for potential outliers\n",
    "lower_bound = Q1 - 1.5 * IQR\n",
    "upper_bound = Q3 + 1.5 * IQR\n",
    "\n",
    "# Identify potential outliers\n",
    "outliers = value_counts.index[(num_hrefs_array < lower_bound) | (num_hrefs_array > upper_bound)]\n",
    "\n",
    "print(\"Potential outliers:\", outliers)\n"
   ]
  },
  {
   "cell_type": "code",
   "execution_count": 34,
   "id": "b25588ea",
   "metadata": {},
   "outputs": [],
   "source": [
    "# Identify potential outliers\n",
    "outliers = value_counts.index[(num_hrefs_array < lower_bound) | (num_hrefs_array > upper_bound)]\n",
    "\n",
    "# Remove outliers from the DataFrame\n",
    "df = df[~df['num_hrefs'].isin(outliers)]"
   ]
  },
  {
   "cell_type": "code",
   "execution_count": 35,
   "id": "fe47591a",
   "metadata": {},
   "outputs": [
    {
     "data": {
      "text/plain": [
       "(996, 22)"
      ]
     },
     "execution_count": 35,
     "metadata": {},
     "output_type": "execute_result"
    }
   ],
   "source": [
    "df.shape"
   ]
  },
  {
   "cell_type": "markdown",
   "id": "f0d7b4c3",
   "metadata": {},
   "source": [
    "## num_imgs"
   ]
  },
  {
   "cell_type": "code",
   "execution_count": 38,
   "id": "163f8973",
   "metadata": {},
   "outputs": [
    {
     "data": {
      "text/plain": [
       "(41,)"
      ]
     },
     "execution_count": 38,
     "metadata": {},
     "output_type": "execute_result"
    }
   ],
   "source": [
    "df['num_imgs'].value_counts().shape"
   ]
  },
  {
   "cell_type": "code",
   "execution_count": 41,
   "id": "28f7cb51",
   "metadata": {
    "collapsed": true
   },
   "outputs": [
    {
     "data": {
      "text/plain": [
       "1     363\n",
       "2     151\n",
       "0     119\n",
       "3      55\n",
       "10     35\n",
       "9      27\n",
       "12     24\n",
       "4      23\n",
       "8      21\n",
       "6      19\n",
       "11     17\n",
       "14     14\n",
       "13     14\n",
       "7      13\n",
       "15     13\n",
       "5      12\n",
       "16      9\n",
       "21      9\n",
       "23      6\n",
       "19      6\n",
       "27      5\n",
       "30      5\n",
       "20      5\n",
       "25      4\n",
       "51      3\n",
       "50      3\n",
       "17      3\n",
       "29      2\n",
       "24      2\n",
       "28      2\n",
       "18      2\n",
       "36      1\n",
       "32      1\n",
       "52      1\n",
       "53      1\n",
       "34      1\n",
       "45      1\n",
       "83      1\n",
       "84      1\n",
       "26      1\n",
       "31      1\n",
       "Name: num_imgs, dtype: int64"
      ]
     },
     "execution_count": 41,
     "metadata": {},
     "output_type": "execute_result"
    }
   ],
   "source": [
    "df['num_imgs'].value_counts()"
   ]
  },
  {
   "cell_type": "code",
   "execution_count": 42,
   "id": "3d09a539",
   "metadata": {
    "collapsed": true
   },
   "outputs": [
    {
     "data": {
      "image/png": "[encoded data removed]",
      "text/plain": [
       "<Figure size 432x288 with 1 Axes>"
      ]
     },
     "metadata": {
      "needs_background": "light"
     },
     "output_type": "display_data"
    }
   ],
   "source": [
    "value_counts = df['num_imgs'].value_counts()\n",
    "\n",
    "# Create a scatter plot\n",
    "plt.scatter(value_counts.index, value_counts.values)\n",
    "\n",
    "# Add labels and title\n",
    "plt.xlabel('num_imgs')\n",
    "plt.ylabel('Count')\n",
    "plt.title('Scatter Plot of num_imgs Value Counts')\n",
    "\n",
    "# Show the plot\n",
    "plt.show()"
   ]
  },
  {
   "cell_type": "code",
   "execution_count": 43,
   "id": "8357773d",
   "metadata": {
    "collapsed": true
   },
   "outputs": [
    {
     "data": {
      "image/png": "[encoded data removed]",
      "text/plain": [
       "<Figure size 432x288 with 1 Axes>"
      ]
     },
     "metadata": {
      "needs_background": "light"
     },
     "output_type": "display_data"
    }
   ],
   "source": [
    "plt.boxplot(value_counts.index)\n",
    "plt.title('Box Plot of num_imgs')\n",
    "plt.xlabel('num_imgs')\n",
    "plt.show()"
   ]
  },
  {
   "cell_type": "code",
   "execution_count": 44,
   "id": "9521bbb1",
   "metadata": {},
   "outputs": [
    {
     "name": "stdout",
     "output_type": "stream",
     "text": [
      "Potential outliers: Int64Index([83, 84], dtype='int64')\n"
     ]
    }
   ],
   "source": [
    "# Convert the index to a NumPy array\n",
    "num_hrefs_array = value_counts.index.to_numpy()\n",
    "\n",
    "# Calculate quartiles and IQR\n",
    "Q1 = np.percentile(num_hrefs_array, 25)\n",
    "Q3 = np.percentile(num_hrefs_array, 75)\n",
    "IQR = Q3 - Q1\n",
    "\n",
    "# Define lower and upper bounds for potential outliers\n",
    "lower_bound = Q1 - 1.5 * IQR\n",
    "upper_bound = Q3 + 1.5 * IQR\n",
    "\n",
    "# Identify potential outliers\n",
    "outliers = value_counts.index[(num_hrefs_array < lower_bound) | (num_hrefs_array > upper_bound)]\n",
    "\n",
    "print(\"Potential outliers:\", outliers)\n"
   ]
  },
  {
   "cell_type": "code",
   "execution_count": 47,
   "id": "f2e431ec",
   "metadata": {},
   "outputs": [],
   "source": [
    "# Identify potential outliers\n",
    "outliers = value_counts.index[(num_hrefs_array < lower_bound) | (num_hrefs_array > upper_bound)]\n",
    "\n",
    "# Remove outliers from the DataFrame\n",
    "df = df[~df['num_imgs'].isin(outliers)]"
   ]
  },
  {
   "cell_type": "code",
   "execution_count": 48,
   "id": "569fae25",
   "metadata": {},
   "outputs": [
    {
     "data": {
      "text/plain": [
       "(994, 22)"
      ]
     },
     "execution_count": 48,
     "metadata": {},
     "output_type": "execute_result"
    }
   ],
   "source": [
    "df.shape"
   ]
  },
  {
   "cell_type": "markdown",
   "id": "68396c4f",
   "metadata": {},
   "source": [
    "## num_videos"
   ]
  },
  {
   "cell_type": "code",
   "execution_count": 54,
   "id": "1f561cd3",
   "metadata": {},
   "outputs": [
    {
     "data": {
      "text/plain": [
       "(22,)"
      ]
     },
     "execution_count": 54,
     "metadata": {},
     "output_type": "execute_result"
    }
   ],
   "source": [
    "df['num_videos'].value_counts().shape"
   ]
  },
  {
   "cell_type": "code",
   "execution_count": 55,
   "id": "b672a4db",
   "metadata": {
    "collapsed": true
   },
   "outputs": [
    {
     "data": {
      "text/plain": [
       "0     625\n",
       "1     230\n",
       "2      70\n",
       "3      17\n",
       "10      6\n",
       "11      6\n",
       "4       5\n",
       "21      4\n",
       "5       4\n",
       "9       4\n",
       "31      3\n",
       "12      3\n",
       "16      3\n",
       "15      2\n",
       "25      2\n",
       "7       2\n",
       "51      2\n",
       "19      2\n",
       "13      1\n",
       "18      1\n",
       "26      1\n",
       "14      1\n",
       "Name: num_videos, dtype: int64"
      ]
     },
     "execution_count": 55,
     "metadata": {},
     "output_type": "execute_result"
    }
   ],
   "source": [
    "df['num_videos'].value_counts()"
   ]
  },
  {
   "cell_type": "code",
   "execution_count": 56,
   "id": "4318d7b3",
   "metadata": {
    "collapsed": true
   },
   "outputs": [
    {
     "data": {
      "image/png": "[encoded data removed]",
      "text/plain": [
       "<Figure size 432x288 with 1 Axes>"
      ]
     },
     "metadata": {
      "needs_background": "light"
     },
     "output_type": "display_data"
    }
   ],
   "source": [
    "value_counts = df['num_videos'].value_counts()\n",
    "\n",
    "# Create a scatter plot\n",
    "plt.scatter(value_counts.index, value_counts.values)\n",
    "\n",
    "# Add labels and title\n",
    "plt.xlabel('num_videos')\n",
    "plt.ylabel('Count')\n",
    "plt.title('Scatter Plot of num_videos Value Counts')\n",
    "\n",
    "# Show the plot\n",
    "plt.show()"
   ]
  },
  {
   "cell_type": "code",
   "execution_count": 57,
   "id": "94eb76e4",
   "metadata": {
    "collapsed": true
   },
   "outputs": [
    {
     "data": {
      "image/png": "[encoded data removed]",
      "text/plain": [
       "<Figure size 432x288 with 1 Axes>"
      ]
     },
     "metadata": {
      "needs_background": "light"
     },
     "output_type": "display_data"
    }
   ],
   "source": [
    "plt.boxplot(value_counts.index)\n",
    "plt.title('Box Plot of num_videos')\n",
    "plt.xlabel('num_videos')\n",
    "plt.show()"
   ]
  },
  {
   "cell_type": "code",
   "execution_count": 58,
   "id": "f9ce894b",
   "metadata": {},
   "outputs": [
    {
     "name": "stdout",
     "output_type": "stream",
     "text": [
      "Potential outliers: Int64Index([51], dtype='int64')\n"
     ]
    }
   ],
   "source": [
    "# Convert the index to a NumPy array\n",
    "num_videos_array = value_counts.index.to_numpy()\n",
    "\n",
    "# Calculate quartiles and IQR\n",
    "Q1 = np.percentile(num_videos_array, 25)\n",
    "Q3 = np.percentile(num_videos_array, 75)\n",
    "IQR = Q3 - Q1\n",
    "\n",
    "# Define lower and upper bounds for potential outliers\n",
    "lower_bound = Q1 - 1.5 * IQR\n",
    "upper_bound = Q3 + 1.5 * IQR\n",
    "\n",
    "# Identify potential outliers\n",
    "outliers = value_counts.index[(num_videos_array < lower_bound) | (num_videos_array > upper_bound)]\n",
    "\n",
    "print(\"Potential outliers:\", outliers)\n"
   ]
  },
  {
   "cell_type": "code",
   "execution_count": 59,
   "id": "89ec211b",
   "metadata": {},
   "outputs": [],
   "source": [
    "# Identify potential outliers\n",
    "outliers = value_counts.index[(num_videos_array < lower_bound) | (num_videos_array > upper_bound)]\n",
    "\n",
    "# Remove outliers from the DataFrame\n",
    "df = df[~df['num_videos'].isin(outliers)]"
   ]
  },
  {
   "cell_type": "code",
   "execution_count": 60,
   "id": "10d643eb",
   "metadata": {},
   "outputs": [
    {
     "data": {
      "text/plain": [
       "(992, 22)"
      ]
     },
     "execution_count": 60,
     "metadata": {},
     "output_type": "execute_result"
    }
   ],
   "source": [
    "df.shape"
   ]
  },
  {
   "cell_type": "markdown",
   "id": "429a2779",
   "metadata": {},
   "source": [
    "## average_token_length"
   ]
  },
  {
   "cell_type": "code",
   "execution_count": 63,
   "id": "d7c83b02",
   "metadata": {},
   "outputs": [
    {
     "data": {
      "text/plain": [
       "(960,)"
      ]
     },
     "execution_count": 63,
     "metadata": {},
     "output_type": "execute_result"
    }
   ],
   "source": [
    "df['average_token_length'].value_counts().shape"
   ]
  },
  {
   "cell_type": "markdown",
   "id": "12100a80",
   "metadata": {},
   "source": [
    "## num_keywords"
   ]
  },
  {
   "cell_type": "code",
   "execution_count": 64,
   "id": "ce436ed3",
   "metadata": {},
   "outputs": [
    {
     "data": {
      "text/plain": [
       "(9,)"
      ]
     },
     "execution_count": 64,
     "metadata": {},
     "output_type": "execute_result"
    }
   ],
   "source": [
    "df['num_keywords'].value_counts().shape"
   ]
  },
  {
   "cell_type": "code",
   "execution_count": 65,
   "id": "7d4023aa",
   "metadata": {
    "collapsed": true
   },
   "outputs": [
    {
     "data": {
      "text/plain": [
       "7     203\n",
       "6     175\n",
       "10    160\n",
       "8     152\n",
       "5     123\n",
       "9     108\n",
       "4      56\n",
       "3      13\n",
       "2       2\n",
       "Name: num_keywords, dtype: int64"
      ]
     },
     "execution_count": 65,
     "metadata": {},
     "output_type": "execute_result"
    }
   ],
   "source": [
    "df['num_keywords'].value_counts()"
   ]
  },
  {
   "cell_type": "code",
   "execution_count": 66,
   "id": "eb729090",
   "metadata": {
    "collapsed": true
   },
   "outputs": [
    {
     "data": {
      "image/png": "[encoded data removed]",
      "text/plain": [
       "<Figure size 432x288 with 1 Axes>"
      ]
     },
     "metadata": {
      "needs_background": "light"
     },
     "output_type": "display_data"
    }
   ],
   "source": [
    "value_counts = df['num_keywords'].value_counts()\n",
    "\n",
    "# Create a scatter plot\n",
    "plt.scatter(value_counts.index, value_counts.values)\n",
    "\n",
    "# Add labels and title\n",
    "plt.xlabel('num_keywords')\n",
    "plt.ylabel('Count')\n",
    "plt.title('Scatter Plot of num_keywords Value Counts')\n",
    "\n",
    "# Show the plot\n",
    "plt.show()"
   ]
  },
  {
   "cell_type": "code",
   "execution_count": 67,
   "id": "2a4278cf",
   "metadata": {
    "collapsed": true
   },
   "outputs": [
    {
     "data": {
      "image/png": "[encoded data removed]",
      "text/plain": [
       "<Figure size 432x288 with 1 Axes>"
      ]
     },
     "metadata": {
      "needs_background": "light"
     },
     "output_type": "display_data"
    }
   ],
   "source": [
    "plt.boxplot(value_counts.index)\n",
    "plt.title('Box Plot of num_keywords')\n",
    "plt.xlabel('num_keywords')\n",
    "plt.show()"
   ]
  },
  {
   "cell_type": "markdown",
   "id": "7a201203",
   "metadata": {},
   "source": [
    "## title_sentiment_polarity\t"
   ]
  },
  {
   "cell_type": "code",
   "execution_count": 68,
   "id": "1c637ec5",
   "metadata": {},
   "outputs": [
    {
     "data": {
      "text/plain": [
       "(130,)"
      ]
     },
     "execution_count": 68,
     "metadata": {},
     "output_type": "execute_result"
    }
   ],
   "source": [
    "df['title_sentiment_polarity'].value_counts().shape"
   ]
  },
  {
   "cell_type": "code",
   "execution_count": 69,
   "id": "55ff3805",
   "metadata": {},
   "outputs": [
    {
     "data": {
      "image/png": "[encoded data removed]",
      "text/plain": [
       "<Figure size 432x288 with 1 Axes>"
      ]
     },
     "metadata": {
      "needs_background": "light"
     },
     "output_type": "display_data"
    }
   ],
   "source": [
    "value_counts = df['title_sentiment_polarity'].value_counts()\n",
    "\n",
    "# Create a scatter plot\n",
    "plt.scatter(value_counts.index, value_counts.values)\n",
    "\n",
    "# Add labels and title\n",
    "plt.xlabel('title_sentiment_polarity')\n",
    "plt.ylabel('Count')\n",
    "plt.title('Scatter Plot of title_sentiment_polarity Value Counts')\n",
    "\n",
    "# Show the plot\n",
    "plt.show()"
   ]
  },
  {
   "cell_type": "code",
   "execution_count": 70,
   "id": "7572c6f7",
   "metadata": {},
   "outputs": [
    {
     "data": {
      "image/png": "[encoded data removed]",
      "text/plain": [
       "<Figure size 432x288 with 1 Axes>"
      ]
     },
     "metadata": {
      "needs_background": "light"
     },
     "output_type": "display_data"
    }
   ],
   "source": [
    "plt.boxplot(value_counts.index)\n",
    "plt.title('Box Plot of num_videos')\n",
    "plt.xlabel('title_sentiment_polarity')\n",
    "plt.show()"
   ]
  },
  {
   "cell_type": "code",
   "execution_count": 71,
   "id": "16a83de6",
   "metadata": {},
   "outputs": [
    {
     "name": "stdout",
     "output_type": "stream",
     "text": [
      "Potential outliers: Float64Index([1.0, -1.0, -0.8], dtype='float64')\n"
     ]
    }
   ],
   "source": [
    "# Convert the index to a NumPy array\n",
    "title_sentiment_polarity_array = value_counts.index.to_numpy()\n",
    "\n",
    "# Calculate quartiles and IQR\n",
    "Q1 = np.percentile(title_sentiment_polarity_array, 25)\n",
    "Q3 = np.percentile(title_sentiment_polarity_array, 75)\n",
    "IQR = Q3 - Q1\n",
    "\n",
    "# Define lower and upper bounds for potential outliers\n",
    "lower_bound = Q1 - 1.5 * IQR\n",
    "upper_bound = Q3 + 1.5 * IQR\n",
    "\n",
    "# Identify potential outliers\n",
    "outliers = value_counts.index[(title_sentiment_polarity_array < lower_bound) | (title_sentiment_polarity_array > upper_bound)]\n",
    "\n",
    "print(\"Potential outliers:\", outliers)\n"
   ]
  },
  {
   "cell_type": "code",
   "execution_count": 72,
   "id": "f5bb416b",
   "metadata": {},
   "outputs": [],
   "source": [
    "# Identify potential outliers\n",
    "outliers = value_counts.index[(title_sentiment_polarity_array < lower_bound) | (title_sentiment_polarity_array > upper_bound)]\n",
    "\n",
    "# Remove outliers from the DataFrame\n",
    "df = df[~df['title_sentiment_polarity'].isin(outliers)]"
   ]
  },
  {
   "cell_type": "code",
   "execution_count": 73,
   "id": "35882c83",
   "metadata": {},
   "outputs": [
    {
     "data": {
      "text/plain": [
       "(974, 22)"
      ]
     },
     "execution_count": 73,
     "metadata": {},
     "output_type": "execute_result"
    }
   ],
   "source": [
    "df.shape"
   ]
  },
  {
   "cell_type": "code",
   "execution_count": null,
   "id": "3949f1fc",
   "metadata": {},
   "outputs": [],
   "source": []
  }
 ],
 "metadata": {
  "kernelspec": {
   "display_name": "Python 3 (ipykernel)",
   "language": "python",
   "name": "python3"
  },
  "language_info": {
   "codemirror_mode": {
    "name": "ipython",
    "version": 3
   },
   "file_extension": ".py",
   "mimetype": "text/x-python",
   "name": "python",
   "nbconvert_exporter": "python",
   "pygments_lexer": "ipython3",
   "version": "3.9.12"
  }
 },
 "nbformat": 4,
 "nbformat_minor": 5
}
